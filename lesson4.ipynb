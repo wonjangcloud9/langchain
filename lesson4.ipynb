{
 "cells": [
  {
   "cell_type": "code",
   "execution_count": 3,
   "metadata": {
    "collapsed": true
   },
   "outputs": [
    {
     "name": "stdout",
     "output_type": "stream",
     "text": [
      "AI: \n",
      "        Director: Peter Jackson\n",
      "        Main Cast: Elijah Wood, Ian McKellen, Viggo Mortensen, Orlando Bloom, Sean Bean, Sean Astin, Cate Blanchett, Liv Tyler, Hugo Weaving, Christopher Lee, Ian Holm, Andy Serkis\n",
      "        Budget: $281 million\n",
      "        Worldwide Box Office: $2.981 billion\n",
      "        Genre: Fantasy, Adventure\n",
      "        Summary: The Lord of the Rings is a film series based on the novel by J.R.R. Tolkien. It follows the journey of a young hobbit named Frodo Baggins who is tasked with destroying a powerful ring that could bring about the end of the world. Along the way, he is joined by a fellowship of diverse characters who help him on his quest."
     ]
    },
    {
     "data": {
      "text/plain": "AIMessage(content='AI: \\n        Director: Peter Jackson\\n        Main Cast: Elijah Wood, Ian McKellen, Viggo Mortensen, Orlando Bloom, Sean Bean, Sean Astin, Cate Blanchett, Liv Tyler, Hugo Weaving, Christopher Lee, Ian Holm, Andy Serkis\\n        Budget: $281 million\\n        Worldwide Box Office: $2.981 billion\\n        Genre: Fantasy, Adventure\\n        Summary: The Lord of the Rings is a film series based on the novel by J.R.R. Tolkien. It follows the journey of a young hobbit named Frodo Baggins who is tasked with destroying a powerful ring that could bring about the end of the world. Along the way, he is joined by a fellowship of diverse characters who help him on his quest.', response_metadata={'finish_reason': 'stop'})"
     },
     "execution_count": 3,
     "metadata": {},
     "output_type": "execute_result"
    }
   ],
   "source": [
    "from langchain.chat_models import ChatOpenAI\n",
    "from langchain.prompts.few_shot import FewShotPromptTemplate\n",
    "from langchain.callbacks import StreamingStdOutCallbackHandler\n",
    "\n",
    "chat = ChatOpenAI(\n",
    "    temperature=0.1,\n",
    "    streaming=True,\n",
    "    callbacks=[\n",
    "        StreamingStdOutCallbackHandler(),\n",
    "    ]\n",
    ")\n",
    "\n",
    "examples = [\n",
    "    {\n",
    "        \"question\": \"What do you know about France?\",\n",
    "        \"answer\": \"\"\"\n",
    "        Here is what I know:\n",
    "        Capital: Paris\n",
    "        Language: French\n",
    "        Food: Wine and Cheese\n",
    "        Currency: Euro\n",
    "        \"\"\",\n",
    "    },\n",
    "    {\n",
    "        \"question\": \"What do you know about Italy?\",\n",
    "        \"answer\": \"\"\"\n",
    "        I know this:\n",
    "        Capital: Rome\n",
    "        Language: Italian\n",
    "        Food: Pizza and Pasta\n",
    "        Currency: Euro\n",
    "        \"\"\",\n",
    "    },\n",
    "    {\n",
    "        \"question\": \"What do you know about Greece?\",\n",
    "        \"answer\": \"\"\"\n",
    "        I know this:\n",
    "        Capital: Athens\n",
    "        Language: Greek\n",
    "        Food: Souvlaki and Feta Cheese\n",
    "        Currency: Euro\n",
    "        \"\"\",\n",
    "    },\n",
    "]\n",
    "\n",
    "chat.predict(\n",
    "    \"What do you know about France?\"\n",
    ")"
   ]
  },
  {
   "cell_type": "code",
   "execution_count": null,
   "outputs": [],
   "source": [],
   "metadata": {
    "collapsed": false,
    "pycharm": {
     "is_executing": true
    }
   }
  }
 ],
 "metadata": {
  "kernelspec": {
   "display_name": "Python 3",
   "language": "python",
   "name": "python3"
  },
  "language_info": {
   "codemirror_mode": {
    "name": "ipython",
    "version": 2
   },
   "file_extension": ".py",
   "mimetype": "text/x-python",
   "name": "python",
   "nbconvert_exporter": "python",
   "pygments_lexer": "ipython2",
   "version": "2.7.6"
  }
 },
 "nbformat": 4,
 "nbformat_minor": 0
}
