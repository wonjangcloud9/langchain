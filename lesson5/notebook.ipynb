{
 "cells": [
  {
   "cell_type": "code",
   "execution_count": 1,
   "outputs": [
    {
     "name": "stderr",
     "output_type": "stream",
     "text": [
      "/Users/wj/PycharmProjects/langchain/.venv/lib/python3.11/site-packages/langchain_core/_api/deprecation.py:117: LangChainDeprecationWarning: The class `langchain_community.chat_models.openai.ChatOpenAI` was deprecated in langchain-community 0.0.10 and will be removed in 0.2.0. An updated version of the class exists in the langchain-openai package and should be used instead. To use it run `pip install -U langchain-openai` and import as `from langchain_openai import ChatOpenAI`.\n",
      "  warn_deprecated(\n"
     ]
    },
    {
     "name": "stdout",
     "output_type": "stream",
     "text": [
      "AI: 🧝🗡️🔥"
     ]
    },
    {
     "data": {
      "text/plain": "AIMessage(content='AI: 🧝🗡️🔥', response_metadata={'finish_reason': 'stop'})"
     },
     "execution_count": 1,
     "metadata": {},
     "output_type": "execute_result"
    }
   ],
   "source": [
    "# from langchain.chat_models import ChatOpenAI\n",
    "# from langchain.prompts import PromptTemplate\n",
    "# from langchain.prompts.few_shot import FewShotPromptTemplate\n",
    "# from langchain.callbacks import StreamingStdOutCallbackHandler\n",
    "# from dotenv import load_dotenv\n",
    "#\n",
    "# load_dotenv()\n",
    "#\n",
    "# chat = ChatOpenAI(\n",
    "#     temperature=0.1,\n",
    "#     streaming=True,\n",
    "#     callbacks=[\n",
    "#         StreamingStdOutCallbackHandler(),\n",
    "#     ],\n",
    "# )\n",
    "#\n",
    "# examples = [\n",
    "#     {\n",
    "#         \"question\": \"너의 이름은 이라는 영화에 대해서 아니?\",\n",
    "#         \"answer\": \"☄️🌊👫\",\n",
    "#     },\n",
    "#     {\n",
    "#         \"question\": \"귀멸의 칼날 무한 열차 라는 영화에 대해서 아니?\",\n",
    "#         \"answer\": \"🚊☀️☠️\",\n",
    "#     },\n",
    "#     {\n",
    "#         \"question\": \"범죄도시2 라는 영화에 대해서 아니?\",\n",
    "#         \"answer\": \"👮🦹🚔\",\n",
    "#     },\n",
    "# ]\n",
    "#\n",
    "# example_prompt = PromptTemplate.from_template(\"Human: {question}\\nAI:{answer}\")\n",
    "#\n",
    "# prompt = FewShotPromptTemplate(\n",
    "#     example_prompt=example_prompt,\n",
    "#     examples=examples,\n",
    "#     suffix=\"Human: {movie} 라는 영화에 대해서 아니? 3개의 이모티콘으로 대답해줘.\",\n",
    "#     input_variables=[\"movie\"],\n",
    "# )\n",
    "#\n",
    "# chain = prompt | chat\n",
    "#\n",
    "# chain.invoke({\"movie\": \"반지의제왕\"})\n"
   ],
   "metadata": {
    "collapsed": false
   }
  },
  {
   "cell_type": "code",
   "execution_count": null,
   "outputs": [],
   "source": [],
   "metadata": {
    "collapsed": false
   }
  }
 ],
 "metadata": {
  "kernelspec": {
   "display_name": "Python 3",
   "language": "python",
   "name": "python3"
  },
  "language_info": {
   "codemirror_mode": {
    "name": "ipython",
    "version": 2
   },
   "file_extension": ".py",
   "mimetype": "text/x-python",
   "name": "python",
   "nbconvert_exporter": "python",
   "pygments_lexer": "ipython2",
   "version": "2.7.6"
  }
 },
 "nbformat": 4,
 "nbformat_minor": 0
}
