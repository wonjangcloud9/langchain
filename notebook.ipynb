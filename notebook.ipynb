{
 "cells": [
  {
   "cell_type": "code",
   "execution_count": 3,
   "outputs": [],
   "source": [
    "from langchain.chat_models import ChatOpenAI\n",
    "from langchain.prompts import ChatPromptTemplate\n",
    "from langchain.callbacks import StreamingStdOutCallbackHandler\n",
    "\n",
    "chat = ChatOpenAI(temperature=0.1, streaming=True, callbacks=[StreamingStdOutCallbackHandler()])"
   ],
   "metadata": {
    "collapsed": false
   }
  },
  {
   "cell_type": "code",
   "execution_count": 4,
   "outputs": [],
   "source": [
    "시를_쓰는데_특화된_체인 = ChatPromptTemplate.from_messages(\n",
    "    [\n",
    "        (\n",
    "            \"system\",\n",
    "            \"너는 시를 쓰는데 특화되었어.\",\n",
    "        ),\n",
    "        (\"human\", \"{programing_language}라는 프로그래밍 언어에 대한 시와 그에 대한 설명을 해줘\"),\n",
    "    ]\n",
    ")\n",
    "\n",
    "시를_설명하는데_특화된_체인 = ChatPromptTemplate.from_messages(\n",
    "    [\n",
    "        (\n",
    "            \"system\",\n",
    "            \"너는 시를 설명하는데 특화되었어.\",\n",
    "        ),\n",
    "        (\"human\", \"{programing_language}라는 프로그래밍 언어에 대한 시와 그에 대한 설명을 해줘\"),\n",
    "    ]\n",
    ")\n"
   ],
   "metadata": {
    "collapsed": false
   }
  },
  {
   "cell_type": "code",
   "execution_count": 5,
   "outputs": [
    {
     "name": "stdout",
     "output_type": "stream",
     "text": [
      "확실히, 다음은 JavaScript에 대한 시와 설명입니다:\n",
      "\n",
      "시:\n",
      "```\n",
      "자바스크립트란\n",
      "웹을 빛나게 하는\n",
      "마법의 언어\n",
      "```\n",
      "\n",
      "설명:\n",
      "JavaScript는 웹 개발에서 가장 널리 사용되는 프로그래밍 언어 중 하나입니다. 웹 페이지의 동적인 기능을 구현하고 사용자와 상호작용하는 데 사용됩니다. HTML과 CSS와 함께 웹 개발의 핵심 요소 중 하나이며, 브라우저에서 실행되는 유일한 프로그래밍 언어입니다. JavaScript는 강력한 기능과 다양한 라이브러리를 제공하여 웹 애플리케이션을 더욱 동적이고 사용자 친화적으로 만들어줍니다."
     ]
    },
    {
     "data": {
      "text/plain": "AIMessage(content='확실히, 다음은 JavaScript에 대한 시와 설명입니다:\\n\\n시:\\n```\\n자바스크립트란\\n웹을 빛나게 하는\\n마법의 언어\\n```\\n\\n설명:\\nJavaScript는 웹 개발에서 가장 널리 사용되는 프로그래밍 언어 중 하나입니다. 웹 페이지의 동적인 기능을 구현하고 사용자와 상호작용하는 데 사용됩니다. HTML과 CSS와 함께 웹 개발의 핵심 요소 중 하나이며, 브라우저에서 실행되는 유일한 프로그래밍 언어입니다. JavaScript는 강력한 기능과 다양한 라이브러리를 제공하여 웹 애플리케이션을 더욱 동적이고 사용자 친화적으로 만들어줍니다.', response_metadata={'finish_reason': 'stop'})"
     },
     "execution_count": 5,
     "metadata": {},
     "output_type": "execute_result"
    }
   ],
   "source": [
    "chain = 시를_쓰는데_특화된_체인 | 시를_설명하는데_특화된_체인 | chat\n",
    "\n",
    "chain.invoke({\"programing_language\": \"javascript\"})"
   ],
   "metadata": {
    "collapsed": false
   }
  },
  {
   "cell_type": "code",
   "execution_count": null,
   "outputs": [],
   "source": [],
   "metadata": {
    "collapsed": false
   }
  }
 ],
 "metadata": {
  "kernelspec": {
   "display_name": "Python 3",
   "language": "python",
   "name": "python3"
  },
  "language_info": {
   "codemirror_mode": {
    "name": "ipython",
    "version": 2
   },
   "file_extension": ".py",
   "mimetype": "text/x-python",
   "name": "python",
   "nbconvert_exporter": "python",
   "pygments_lexer": "ipython2",
   "version": "2.7.6"
  }
 },
 "nbformat": 4,
 "nbformat_minor": 0
}
