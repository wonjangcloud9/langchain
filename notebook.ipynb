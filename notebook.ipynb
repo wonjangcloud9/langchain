{
 "cells": [
  {
   "cell_type": "code",
   "execution_count": 39,
   "outputs": [],
   "source": [
    "from langchain.chat_models import ChatOpenAI\n",
    "from langchain.prompts import ChatPromptTemplate\n",
    "from langchain.callbacks import StreamingStdOutCallbackHandler\n",
    "\n",
    "chat = ChatOpenAI(temperature=0.1, streaming=True, callbacks=[StreamingStdOutCallbackHandler()])"
   ],
   "metadata": {
    "collapsed": false
   }
  },
  {
   "cell_type": "code",
   "execution_count": 40,
   "outputs": [],
   "source": [
    "시를_쓰는데_특화된_체인 = ChatPromptTemplate.from_messages(\n",
    "    [\n",
    "        (\n",
    "            \"system\",\n",
    "            \"너는 시를 쓰는데 특화되었어.\",\n",
    "        ),\n",
    "        (\"human\", \"{programing_language}라는 프로그래밍 언어에 대한 시와 그에 대한 설명을 해줘\"),\n",
    "    ]\n",
    ")\n",
    "\n",
    "시를_설명하는데_특화된_체인 = ChatPromptTemplate.from_messages(\n",
    "    [\n",
    "        (\n",
    "            \"system\",\n",
    "            \"너는 시를 설명하는데 특화되었어.\",\n",
    "        ),\n",
    "        (\"human\", \"{programing_language}라는 프로그래밍 언어에 대한 시와 그에 대한 설명을 해줘\"),\n",
    "    ]\n",
    ")\n"
   ],
   "metadata": {
    "collapsed": false
   }
  },
  {
   "cell_type": "code",
   "execution_count": 41,
   "outputs": [
    {
     "name": "stdout",
     "output_type": "stream",
     "text": [
      "확실해, 이런 시를 만들어봤어:\n",
      "\n",
      "자바스크립트란 이름은 아름다워,\n",
      "웹 개발을 위한 강력한 도구로,\n",
      "동적인 기능을 부여해주는,\n",
      "인기 있는 프로그래밍 언어야.\n",
      "\n",
      "웹페이지를 더욱 생동감 있게 만들어주는,\n",
      "사용하기 쉽고 다양한 기능을 제공하는,\n",
      "자바스크립트는 프론트엔드 개발자의 친구,\n",
      "인터랙티브한 경험을 만들어주는 존재야.\n",
      "\n",
      "자바스크립트의 매력은 끝이 없어,\n",
      "계속해서 발전하고 성장하는,\n",
      "웹 개발의 필수 요소로 자리매김한,\n",
      "프로그래밍 언어의 보석이야."
     ]
    },
    {
     "data": {
      "text/plain": "AIMessage(content='확실해, 이런 시를 만들어봤어:\\n\\n자바스크립트란 이름은 아름다워,\\n웹 개발을 위한 강력한 도구로,\\n동적인 기능을 부여해주는,\\n인기 있는 프로그래밍 언어야.\\n\\n웹페이지를 더욱 생동감 있게 만들어주는,\\n사용하기 쉽고 다양한 기능을 제공하는,\\n자바스크립트는 프론트엔드 개발자의 친구,\\n인터랙티브한 경험을 만들어주는 존재야.\\n\\n자바스크립트의 매력은 끝이 없어,\\n계속해서 발전하고 성장하는,\\n웹 개발의 필수 요소로 자리매김한,\\n프로그래밍 언어의 보석이야.', response_metadata={'finish_reason': 'stop'})"
     },
     "execution_count": 41,
     "metadata": {},
     "output_type": "execute_result"
    }
   ],
   "source": [
    "chain = 시를_쓰는데_특화된_체인 | 시를_설명하는데_특화된_체인 | chat\n",
    "\n",
    "chain.invoke({\"programing_language\": \"javascript\"})"
   ],
   "metadata": {
    "collapsed": false
   }
  },
  {
   "cell_type": "code",
   "execution_count": null,
   "outputs": [],
   "source": [],
   "metadata": {
    "collapsed": false
   }
  }
 ],
 "metadata": {
  "kernelspec": {
   "display_name": "Python 3",
   "language": "python",
   "name": "python3"
  },
  "language_info": {
   "codemirror_mode": {
    "name": "ipython",
    "version": 2
   },
   "file_extension": ".py",
   "mimetype": "text/x-python",
   "name": "python",
   "nbconvert_exporter": "python",
   "pygments_lexer": "ipython2",
   "version": "2.7.6"
  }
 },
 "nbformat": 4,
 "nbformat_minor": 0
}
