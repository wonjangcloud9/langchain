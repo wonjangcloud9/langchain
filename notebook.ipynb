{
 "cells": [
  {
   "cell_type": "code",
   "execution_count": 36,
   "outputs": [],
   "source": [
    "from langchain.chat_models import ChatOpenAI\n",
    "from langchain.prompts import ChatPromptTemplate\n",
    "from langchain.callbacks import StreamingStdOutCallbackHandler\n",
    "\n",
    "chat = ChatOpenAI(temperature=0.1, streaming=True, callbacks=[StreamingStdOutCallbackHandler()])"
   ],
   "metadata": {
    "collapsed": false
   }
  },
  {
   "cell_type": "code",
   "execution_count": 37,
   "outputs": [],
   "source": [
    "시를_쓰는데_특화된_체인 = ChatPromptTemplate.from_messages(\n",
    "    [\n",
    "        (\n",
    "            \"system\",\n",
    "            \"너는 시를 쓰는데 특화되었어.\",\n",
    "        ),\n",
    "        (\"human\", \"{programing_language}라는 프로그래밍 언어를 가지고 시와 그에 대한 설명을 해줘\"),\n",
    "    ]\n",
    ")\n",
    "\n",
    "시를_설명하는데_특화된_체인 = ChatPromptTemplate.from_messages(\n",
    "    [\n",
    "        (\n",
    "            \"system\",\n",
    "            \"너는 시를 설명하는데 특화되었어.\",\n",
    "        ),\n",
    "        (\"human\", \"{programing_language}라는 프로그래밍 언어를 가지고 시와 그에 대한 설명을 해줘\"),\n",
    "    ]\n",
    ")\n"
   ],
   "metadata": {
    "collapsed": false
   }
  },
  {
   "cell_type": "code",
   "execution_count": 38,
   "outputs": [
    {
     "name": "stdout",
     "output_type": "stream",
     "text": [
      "확실히, javascript를 이용하여 시를 작성하고 설명해드리겠습니다.\n",
      "\n",
      "```javascript\n",
      "// 아름다운 봄날\n",
      "const springDay = {\n",
      "  flowers: '향기로운 꽃들이 피어나는',\n",
      "  birds: '노래하는 새들이 날아다니는',\n",
      "  sun: '따사로운 햇살이 비추는',\n",
      "  breeze: '시원한 바람이 스치는',\n",
      "};\n",
      "\n",
      "function createSpringPoem(day) {\n",
      "  return `오늘은 ${day.flowers} 아름다운 봄날,\n",
      "${day.birds} 하늘을 날아다니며,\n",
      "${day.sun} 하늘을 밝히고,\n",
      "${day.breeze} 나를 감싸 안아주네.`;\n",
      "}\n",
      "\n",
      "const poem = createSpringPoem(springDay);\n",
      "console.log(poem);\n",
      "```\n",
      "\n",
      "이 코드는 아름다운 봄날을 주제로 한 시를 javascript로 작성한 예시입니다. 코드는 봄날의 꽃, 새, 햇살, 바람을 표현하고, 해당 내용을 조합하여 시를 생성하는 함수를 포함하고 있습니다. 이를 실행하면 아름다운 봄날에 대한 시가 출력됩니다."
     ]
    },
    {
     "data": {
      "text/plain": "AIMessage(content=\"확실히, javascript를 이용하여 시를 작성하고 설명해드리겠습니다.\\n\\n```javascript\\n// 아름다운 봄날\\nconst springDay = {\\n  flowers: '향기로운 꽃들이 피어나는',\\n  birds: '노래하는 새들이 날아다니는',\\n  sun: '따사로운 햇살이 비추는',\\n  breeze: '시원한 바람이 스치는',\\n};\\n\\nfunction createSpringPoem(day) {\\n  return `오늘은 ${day.flowers} 아름다운 봄날,\\n${day.birds} 하늘을 날아다니며,\\n${day.sun} 하늘을 밝히고,\\n${day.breeze} 나를 감싸 안아주네.`;\\n}\\n\\nconst poem = createSpringPoem(springDay);\\nconsole.log(poem);\\n```\\n\\n이 코드는 아름다운 봄날을 주제로 한 시를 javascript로 작성한 예시입니다. 코드는 봄날의 꽃, 새, 햇살, 바람을 표현하고, 해당 내용을 조합하여 시를 생성하는 함수를 포함하고 있습니다. 이를 실행하면 아름다운 봄날에 대한 시가 출력됩니다.\", response_metadata={'finish_reason': 'stop'})"
     },
     "execution_count": 38,
     "metadata": {},
     "output_type": "execute_result"
    }
   ],
   "source": [
    "chain = 시를_쓰는데_특화된_체인 | 시를_설명하는데_특화된_체인 | chat\n",
    "\n",
    "chain.invoke({\"programing_language\": \"javascript\"})"
   ],
   "metadata": {
    "collapsed": false
   }
  },
  {
   "cell_type": "code",
   "execution_count": null,
   "outputs": [],
   "source": [],
   "metadata": {
    "collapsed": false
   }
  }
 ],
 "metadata": {
  "kernelspec": {
   "display_name": "Python 3",
   "language": "python",
   "name": "python3"
  },
  "language_info": {
   "codemirror_mode": {
    "name": "ipython",
    "version": 2
   },
   "file_extension": ".py",
   "mimetype": "text/x-python",
   "name": "python",
   "nbconvert_exporter": "python",
   "pygments_lexer": "ipython2",
   "version": "2.7.6"
  }
 },
 "nbformat": 4,
 "nbformat_minor": 0
}
