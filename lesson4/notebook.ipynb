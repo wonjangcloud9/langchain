{
 "cells": [
  {
   "cell_type": "code",
   "execution_count": 2,
   "metadata": {
    "collapsed": true
   },
   "outputs": [
    {
     "name": "stdout",
     "output_type": "stream",
     "text": [
      "AI: \n",
      "        Director: Peter Jackson\n",
      "        Main Cast: Elijah Wood, Ian McKellen, Viggo Mortensen, Orlando Bloom, Sean Bean, Sean Astin, Cate Blanchett, Liv Tyler, Hugo Weaving, Ian Holm, Andy Serkis\n",
      "        Budget: $281 million\n",
      "        Worldwide Box Office: $2.981 billion\n",
      "        Genre: Fantasy, Adventure\n",
      "        Summary: The Lord of the Rings is a film series based on the novel by J.R.R. Tolkien. It follows the journey of a young hobbit named Frodo Baggins who is tasked with destroying a powerful ring that could bring about the end of the world. Along the way, he is joined by a fellowship of diverse characters who help him on his quest."
     ]
    },
    {
     "data": {
      "text/plain": "AIMessage(content='AI: \\n        Director: Peter Jackson\\n        Main Cast: Elijah Wood, Ian McKellen, Viggo Mortensen, Orlando Bloom, Sean Bean, Sean Astin, Cate Blanchett, Liv Tyler, Hugo Weaving, Ian Holm, Andy Serkis\\n        Budget: $281 million\\n        Worldwide Box Office: $2.981 billion\\n        Genre: Fantasy, Adventure\\n        Summary: The Lord of the Rings is a film series based on the novel by J.R.R. Tolkien. It follows the journey of a young hobbit named Frodo Baggins who is tasked with destroying a powerful ring that could bring about the end of the world. Along the way, he is joined by a fellowship of diverse characters who help him on his quest.', response_metadata={'finish_reason': 'stop'})"
     },
     "execution_count": 2,
     "metadata": {},
     "output_type": "execute_result"
    }
   ],
   "source": [
    "from langchain.chat_models import ChatOpenAI\n",
    "from langchain.prompts import PromptTemplate\n",
    "from langchain.prompts.few_shot import FewShotPromptTemplate\n",
    "from langchain.callbacks import StreamingStdOutCallbackHandler\n",
    "from dotenv import load_dotenv\n",
    "\n",
    "load_dotenv()\n",
    "\n",
    "chat = ChatOpenAI(\n",
    "    temperature=0.1,\n",
    "    streaming=True,\n",
    "    callbacks=[\n",
    "        StreamingStdOutCallbackHandler(),\n",
    "    ],\n",
    ")\n",
    "\n",
    "examples = [\n",
    "    {\n",
    "        \"question\": \"너의 이름은 이라는 영화에 대해서 아니?\",\n",
    "        \"answer\": \"\"\"\n",
    "        감독: 신카이 마코토\n",
    "        주요 출연진: 카미키 류노스케, 카미시라이시 모네, 타니 카논, 이시카와 카이토 등\n",
    "        예산: 3억 7000만엔\n",
    "        자국에서의 흥행 수익: $233,734,314\n",
    "        장르: 애니메이션\n",
    "        시놉시스 요약: 한 달 후, 천 년 만에 찾아온다는 혜성을 기다리고 있는 일본. 산골 깊은 시골 마을에 살고 있는 여고생 미츠하는 우울한 나날을 보내고 있다.\n",
    "        \"\"\",\n",
    "    },\n",
    "    {\n",
    "        \"question\": \"귀멸의 칼날 무한 열차 라는 영화에 대해서 아니?\",\n",
    "        \"answer\": \"\"\"\n",
    "        감독: 소토자키 하루오\n",
    "        주요 출연진: 하나에 나츠키, 키토 아카리, 시모노 히로 등\n",
    "        예산: 1585만 달러\n",
    "        자국에서의 흥행 수익: $364,777,208\n",
    "        장르: 애니메이션\n",
    "        시놉시스 요약: 나비 저택에서의 치료를 마친 탄지로 일행은 다음 임무지인 <무한열차>에 도착한다.\n",
    "        그곳에서는 단기간에 40명 이상의 사람이 행방불명되었다고 한다.\n",
    "        네즈코를 동반한 탄지로와 젠이츠, 이노스케 일행은,\n",
    "        귀살대 최강의 검사인 <주>의 한 사람,\n",
    "        염주(炎柱) 렌고쿠 쿄쥬로와 합류하여,\n",
    "        어둠 속을 달리는 <무한열차> 안에서, 혈귀와 맞서는 것이었다.\n",
    "        \"\"\",\n",
    "    },\n",
    "    {\n",
    "        \"question\": \"범죄도시2 라는 영화에 대해서 아니?\",\n",
    "        \"answer\": \"\"\"\n",
    "        감독: 이상용\n",
    "        주요 출연진: 마동석, 손석구, 최귀화, 박지환 외\n",
    "        예산: 130억 원\n",
    "        자국에서의 흥행 수익: 없고 미국에선 $106,047,622\n",
    "        장르: 액션, 범죄, 스릴러, 느와르, 코미디, 형사\n",
    "        시놉시스 요약: “느낌 오지? 이 놈 잡아야 하는 거”\n",
    "        가리봉동 소탕작전 후 4년 뒤,\n",
    "        금천서 강력반은 베트남으로 도주한 용의자를 인도받아 오라는 미션을 받는다.\n",
    "        \"\"\",\n",
    "    },\n",
    "]\n",
    "\n",
    "example_prompt = PromptTemplate.from_template(\"Human: {question}\\nAI:{answer}\")\n",
    "\n",
    "prompt = FewShotPromptTemplate(\n",
    "    example_prompt=example_prompt,\n",
    "    examples=examples,\n",
    "    suffix=\"Human: What do you know about {movie}?\",\n",
    "    input_variables=[\"movie\"],\n",
    ")\n",
    "\n",
    "chain = prompt | chat\n",
    "\n",
    "chain.invoke({\"movie\": \"반지의제왕\"})\n"
   ]
  },
  {
   "cell_type": "code",
   "execution_count": null,
   "outputs": [],
   "source": [],
   "metadata": {
    "collapsed": false
   }
  }
 ],
 "metadata": {
  "kernelspec": {
   "display_name": "Python 3",
   "language": "python",
   "name": "python3"
  },
  "language_info": {
   "codemirror_mode": {
    "name": "ipython",
    "version": 2
   },
   "file_extension": ".py",
   "mimetype": "text/x-python",
   "name": "python",
   "nbconvert_exporter": "python",
   "pygments_lexer": "ipython2",
   "version": "2.7.6"
  }
 },
 "nbformat": 4,
 "nbformat_minor": 0
}
